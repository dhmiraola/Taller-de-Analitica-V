{
 "cells": [
  {
   "cell_type": "code",
   "execution_count": 1,
   "id": "6130ea2c",
   "metadata": {},
   "outputs": [
    {
     "data": {
      "text/html": [
       "<div>\n",
       "<style scoped>\n",
       "    .dataframe tbody tr th:only-of-type {\n",
       "        vertical-align: middle;\n",
       "    }\n",
       "\n",
       "    .dataframe tbody tr th {\n",
       "        vertical-align: top;\n",
       "    }\n",
       "\n",
       "    .dataframe thead th {\n",
       "        text-align: right;\n",
       "    }\n",
       "</style>\n",
       "<table border=\"1\" class=\"dataframe\">\n",
       "  <thead>\n",
       "    <tr style=\"text-align: right;\">\n",
       "      <th></th>\n",
       "      <th>TV</th>\n",
       "      <th>Radio</th>\n",
       "      <th>Newspaper</th>\n",
       "      <th>Sales</th>\n",
       "    </tr>\n",
       "  </thead>\n",
       "  <tbody>\n",
       "    <tr>\n",
       "      <th>0</th>\n",
       "      <td>230.1</td>\n",
       "      <td>37.8</td>\n",
       "      <td>69.2</td>\n",
       "      <td>22.1</td>\n",
       "    </tr>\n",
       "    <tr>\n",
       "      <th>1</th>\n",
       "      <td>44.5</td>\n",
       "      <td>39.3</td>\n",
       "      <td>45.1</td>\n",
       "      <td>10.4</td>\n",
       "    </tr>\n",
       "    <tr>\n",
       "      <th>2</th>\n",
       "      <td>17.2</td>\n",
       "      <td>45.9</td>\n",
       "      <td>69.3</td>\n",
       "      <td>9.3</td>\n",
       "    </tr>\n",
       "    <tr>\n",
       "      <th>3</th>\n",
       "      <td>151.5</td>\n",
       "      <td>41.3</td>\n",
       "      <td>58.5</td>\n",
       "      <td>18.5</td>\n",
       "    </tr>\n",
       "    <tr>\n",
       "      <th>4</th>\n",
       "      <td>180.8</td>\n",
       "      <td>10.8</td>\n",
       "      <td>58.4</td>\n",
       "      <td>12.9</td>\n",
       "    </tr>\n",
       "  </tbody>\n",
       "</table>\n",
       "</div>"
      ],
      "text/plain": [
       "      TV  Radio  Newspaper  Sales\n",
       "0  230.1   37.8       69.2   22.1\n",
       "1   44.5   39.3       45.1   10.4\n",
       "2   17.2   45.9       69.3    9.3\n",
       "3  151.5   41.3       58.5   18.5\n",
       "4  180.8   10.8       58.4   12.9"
      ]
     },
     "execution_count": 1,
     "metadata": {},
     "output_type": "execute_result"
    }
   ],
   "source": [
    "import pandas as pd\n",
    "\n",
    "data = pd.read_csv('Advertising.csv')\n",
    "\n",
    "data.head()"
   ]
  },
  {
   "cell_type": "code",
   "execution_count": 2,
   "id": "c7a7b2b4",
   "metadata": {},
   "outputs": [
    {
     "data": {
      "text/html": [
       "<style>#sk-container-id-1 {color: black;}#sk-container-id-1 pre{padding: 0;}#sk-container-id-1 div.sk-toggleable {background-color: white;}#sk-container-id-1 label.sk-toggleable__label {cursor: pointer;display: block;width: 100%;margin-bottom: 0;padding: 0.3em;box-sizing: border-box;text-align: center;}#sk-container-id-1 label.sk-toggleable__label-arrow:before {content: \"▸\";float: left;margin-right: 0.25em;color: #696969;}#sk-container-id-1 label.sk-toggleable__label-arrow:hover:before {color: black;}#sk-container-id-1 div.sk-estimator:hover label.sk-toggleable__label-arrow:before {color: black;}#sk-container-id-1 div.sk-toggleable__content {max-height: 0;max-width: 0;overflow: hidden;text-align: left;background-color: #f0f8ff;}#sk-container-id-1 div.sk-toggleable__content pre {margin: 0.2em;color: black;border-radius: 0.25em;background-color: #f0f8ff;}#sk-container-id-1 input.sk-toggleable__control:checked~div.sk-toggleable__content {max-height: 200px;max-width: 100%;overflow: auto;}#sk-container-id-1 input.sk-toggleable__control:checked~label.sk-toggleable__label-arrow:before {content: \"▾\";}#sk-container-id-1 div.sk-estimator input.sk-toggleable__control:checked~label.sk-toggleable__label {background-color: #d4ebff;}#sk-container-id-1 div.sk-label input.sk-toggleable__control:checked~label.sk-toggleable__label {background-color: #d4ebff;}#sk-container-id-1 input.sk-hidden--visually {border: 0;clip: rect(1px 1px 1px 1px);clip: rect(1px, 1px, 1px, 1px);height: 1px;margin: -1px;overflow: hidden;padding: 0;position: absolute;width: 1px;}#sk-container-id-1 div.sk-estimator {font-family: monospace;background-color: #f0f8ff;border: 1px dotted black;border-radius: 0.25em;box-sizing: border-box;margin-bottom: 0.5em;}#sk-container-id-1 div.sk-estimator:hover {background-color: #d4ebff;}#sk-container-id-1 div.sk-parallel-item::after {content: \"\";width: 100%;border-bottom: 1px solid gray;flex-grow: 1;}#sk-container-id-1 div.sk-label:hover label.sk-toggleable__label {background-color: #d4ebff;}#sk-container-id-1 div.sk-serial::before {content: \"\";position: absolute;border-left: 1px solid gray;box-sizing: border-box;top: 0;bottom: 0;left: 50%;z-index: 0;}#sk-container-id-1 div.sk-serial {display: flex;flex-direction: column;align-items: center;background-color: white;padding-right: 0.2em;padding-left: 0.2em;position: relative;}#sk-container-id-1 div.sk-item {position: relative;z-index: 1;}#sk-container-id-1 div.sk-parallel {display: flex;align-items: stretch;justify-content: center;background-color: white;position: relative;}#sk-container-id-1 div.sk-item::before, #sk-container-id-1 div.sk-parallel-item::before {content: \"\";position: absolute;border-left: 1px solid gray;box-sizing: border-box;top: 0;bottom: 0;left: 50%;z-index: -1;}#sk-container-id-1 div.sk-parallel-item {display: flex;flex-direction: column;z-index: 1;position: relative;background-color: white;}#sk-container-id-1 div.sk-parallel-item:first-child::after {align-self: flex-end;width: 50%;}#sk-container-id-1 div.sk-parallel-item:last-child::after {align-self: flex-start;width: 50%;}#sk-container-id-1 div.sk-parallel-item:only-child::after {width: 0;}#sk-container-id-1 div.sk-dashed-wrapped {border: 1px dashed gray;margin: 0 0.4em 0.5em 0.4em;box-sizing: border-box;padding-bottom: 0.4em;background-color: white;}#sk-container-id-1 div.sk-label label {font-family: monospace;font-weight: bold;display: inline-block;line-height: 1.2em;}#sk-container-id-1 div.sk-label-container {text-align: center;}#sk-container-id-1 div.sk-container {/* jupyter's `normalize.less` sets `[hidden] { display: none; }` but bootstrap.min.css set `[hidden] { display: none !important; }` so we also need the `!important` here to be able to override the default hidden behavior on the sphinx rendered scikit-learn.org. See: https://github.com/scikit-learn/scikit-learn/issues/21755 */display: inline-block !important;position: relative;}#sk-container-id-1 div.sk-text-repr-fallback {display: none;}</style><div id=\"sk-container-id-1\" class=\"sk-top-container\"><div class=\"sk-text-repr-fallback\"><pre>LinearRegression()</pre><b>In a Jupyter environment, please rerun this cell to show the HTML representation or trust the notebook. <br />On GitHub, the HTML representation is unable to render, please try loading this page with nbviewer.org.</b></div><div class=\"sk-container\" hidden><div class=\"sk-item\"><div class=\"sk-estimator sk-toggleable\"><input class=\"sk-toggleable__control sk-hidden--visually\" id=\"sk-estimator-id-1\" type=\"checkbox\" checked><label for=\"sk-estimator-id-1\" class=\"sk-toggleable__label sk-toggleable__label-arrow\">LinearRegression</label><div class=\"sk-toggleable__content\"><pre>LinearRegression()</pre></div></div></div></div></div>"
      ],
      "text/plain": [
       "LinearRegression()"
      ]
     },
     "execution_count": 2,
     "metadata": {},
     "output_type": "execute_result"
    }
   ],
   "source": [
    "from sklearn.linear_model import LinearRegression\n",
    "\n",
    "# Dividiento los datos entre variables independientes y dependientes\n",
    "X = data[['TV', 'Radio', 'Newspaper']]\n",
    "y = data['Sales']\n",
    "\n",
    "# Creacion del modelo\n",
    "model = LinearRegression()\n",
    "\n",
    "# Ajuste del modelo\n",
    "model.fit(X, y)"
   ]
  },
  {
   "cell_type": "code",
   "execution_count": 3,
   "id": "49d478f3",
   "metadata": {},
   "outputs": [
    {
     "data": {
      "text/plain": [
       "array([20.52397441, 12.33785482, 12.30767078, 17.59782951, 13.18867186,\n",
       "       12.47834763, 11.72975995, 12.12295317,  3.72734086, 12.55084872,\n",
       "        7.0322992 , 17.28512918, 10.57712073,  8.82630048, 18.43436638,\n",
       "       20.81929952, 12.82365674, 23.22495716,  9.95168206, 14.16607293,\n",
       "       18.10076728, 14.7405382 ,  6.4891503 , 16.5459329 ,  8.14651887,\n",
       "       15.6100386 , 14.98951429, 17.05167344, 19.41053803,  9.14402389,\n",
       "       21.6339338 , 11.3460929 ,  7.63888314, 18.86426829,  7.57483051,\n",
       "       17.00682618, 23.40590052, 15.62347779,  9.90868103, 20.44761039,\n",
       "       16.37766467, 17.2959832 , 21.59580326, 13.96385684,  8.88787996,\n",
       "       15.16152314,  8.87338673, 21.7226299 , 16.26362018,  8.1681656 ,\n",
       "       12.63121132,  9.33981296, 20.66297563, 19.94469957, 20.37443008,\n",
       "       21.2926106 ,  8.52771254, 12.77458802, 21.89805198, 18.13348698,\n",
       "        5.74215558, 22.89067208, 16.78426073, 13.21069202, 16.97773556,\n",
       "        7.84904532,  9.01603163, 12.0370073 , 18.97657924, 21.10891244,\n",
       "       17.77949782, 10.62693815, 10.36684881,  9.90298206, 17.32931197,\n",
       "       11.85832174,  4.47758904, 13.81190223,  8.81331353,  9.67530328,\n",
       "       11.44592364, 14.64794093, 10.17840799, 14.42184212, 20.78136464,\n",
       "       15.18140789, 11.59870739, 15.59378475, 11.71127101, 16.92225511,\n",
       "        9.99922965,  4.49631598, 19.15639616, 21.22757378, 10.48212385,\n",
       "       16.31492112, 12.63571716, 15.33707782, 24.11860723, 16.94035021,\n",
       "       13.87595844, 23.24248685, 17.64409385, 14.76221142, 20.30110878,\n",
       "       17.93641467,  6.12602215,  7.10850249,  3.58725841, 19.69293106,\n",
       "       14.7598741 , 21.14027498, 13.88060985, 16.40377623, 15.30509593,\n",
       "       12.91968895, 11.97874744,  6.5707774 , 15.56609348,  6.82006767,\n",
       "       14.41010605,  7.83807642, 13.6264571 , 15.0827909 , 19.45441306,\n",
       "        9.12734958, 10.57717411,  6.599669  , 22.25549161,  7.88410649,\n",
       "       10.4276871 , 15.57779819,  8.44915012, 19.26692307, 11.8368039 ,\n",
       "       14.00141385, 11.45348627, 20.85125198,  9.76842795, 19.67547632,\n",
       "        9.48964097, 18.39902932, 19.24986927,  8.76480262, 10.09133403,\n",
       "        9.70853872, 15.29422368, 23.26086103, 12.26335941,  9.8272711 ,\n",
       "       18.36720534, 10.0095377 , 16.3600003 , 18.22390132, 15.50161696,\n",
       "        5.3075589 , 15.38485192, 10.0143112 , 10.38419866, 12.39914823,\n",
       "       14.21383298, 13.55914568, 14.94678206, 17.35163608, 11.0682946 ,\n",
       "       14.22372138, 10.82439531, 13.36324677, 17.1861428 , 17.9415563 ,\n",
       "        7.39497997, 14.35827373,  7.60769238, 11.97093887, 13.74435742,\n",
       "       24.78687031, 19.9793727 , 12.1620464 , 16.01099722, 12.38455495,\n",
       "       10.5871997 , 13.92809918,  6.55467   , 24.13310013, 18.53852096,\n",
       "       20.80301059,  9.69137313, 17.07644223, 18.64430648,  6.05162411,\n",
       "       12.4891591 ,  8.42401933,  4.46622956, 18.48695797, 16.49530044,\n",
       "        5.37034248,  8.16531236, 12.78592082, 23.76732149, 15.17319554])"
      ]
     },
     "execution_count": 3,
     "metadata": {},
     "output_type": "execute_result"
    }
   ],
   "source": [
    "# Realizar predicciones al modelo\n",
    "\n",
    "y_pred = model.predict(X)\n",
    "y_pred"
   ]
  },
  {
   "cell_type": "code",
   "execution_count": 4,
   "id": "aa96b4c8",
   "metadata": {},
   "outputs": [
    {
     "data": {
      "text/html": [
       "<div>\n",
       "<style scoped>\n",
       "    .dataframe tbody tr th:only-of-type {\n",
       "        vertical-align: middle;\n",
       "    }\n",
       "\n",
       "    .dataframe tbody tr th {\n",
       "        vertical-align: top;\n",
       "    }\n",
       "\n",
       "    .dataframe thead th {\n",
       "        text-align: right;\n",
       "    }\n",
       "</style>\n",
       "<table border=\"1\" class=\"dataframe\">\n",
       "  <thead>\n",
       "    <tr style=\"text-align: right;\">\n",
       "      <th></th>\n",
       "      <th>TV</th>\n",
       "      <th>Radio</th>\n",
       "      <th>Newspaper</th>\n",
       "      <th>Sales</th>\n",
       "      <th>predicciones</th>\n",
       "    </tr>\n",
       "  </thead>\n",
       "  <tbody>\n",
       "    <tr>\n",
       "      <th>0</th>\n",
       "      <td>230.1</td>\n",
       "      <td>37.8</td>\n",
       "      <td>69.2</td>\n",
       "      <td>22.1</td>\n",
       "      <td>20.523974</td>\n",
       "    </tr>\n",
       "    <tr>\n",
       "      <th>1</th>\n",
       "      <td>44.5</td>\n",
       "      <td>39.3</td>\n",
       "      <td>45.1</td>\n",
       "      <td>10.4</td>\n",
       "      <td>12.337855</td>\n",
       "    </tr>\n",
       "    <tr>\n",
       "      <th>2</th>\n",
       "      <td>17.2</td>\n",
       "      <td>45.9</td>\n",
       "      <td>69.3</td>\n",
       "      <td>9.3</td>\n",
       "      <td>12.307671</td>\n",
       "    </tr>\n",
       "    <tr>\n",
       "      <th>3</th>\n",
       "      <td>151.5</td>\n",
       "      <td>41.3</td>\n",
       "      <td>58.5</td>\n",
       "      <td>18.5</td>\n",
       "      <td>17.597830</td>\n",
       "    </tr>\n",
       "    <tr>\n",
       "      <th>4</th>\n",
       "      <td>180.8</td>\n",
       "      <td>10.8</td>\n",
       "      <td>58.4</td>\n",
       "      <td>12.9</td>\n",
       "      <td>13.188672</td>\n",
       "    </tr>\n",
       "  </tbody>\n",
       "</table>\n",
       "</div>"
      ],
      "text/plain": [
       "      TV  Radio  Newspaper  Sales  predicciones\n",
       "0  230.1   37.8       69.2   22.1     20.523974\n",
       "1   44.5   39.3       45.1   10.4     12.337855\n",
       "2   17.2   45.9       69.3    9.3     12.307671\n",
       "3  151.5   41.3       58.5   18.5     17.597830\n",
       "4  180.8   10.8       58.4   12.9     13.188672"
      ]
     },
     "execution_count": 4,
     "metadata": {},
     "output_type": "execute_result"
    }
   ],
   "source": [
    "data[\"predicciones\"] = y_pred\n",
    "data.head()"
   ]
  },
  {
   "cell_type": "code",
   "execution_count": 5,
   "id": "8c4cdb60",
   "metadata": {},
   "outputs": [
    {
     "name": "stdout",
     "output_type": "stream",
     "text": [
      "Coeficiente de determinación (R-squared): 0.8972106381789522\n"
     ]
    }
   ],
   "source": [
    "from sklearn.metrics import r2_score\n",
    "\n",
    "r_squared = r2_score(y, y_pred)\n",
    "print(\"Coeficiente de determinación:\", r_squared)"
   ]
  },
  {
   "cell_type": "code",
   "execution_count": 6,
   "id": "54789c89",
   "metadata": {},
   "outputs": [
    {
     "name": "stdout",
     "output_type": "stream",
     "text": [
      "Coeficiente de intercepción (b0): 2.9388893694594067\n",
      "Coeficientes de las variables (TV, Radio, Newspaper): [ 0.04576465  0.18853002 -0.00103749]\n"
     ]
    }
   ],
   "source": [
    "print(\"Intercepto (b0):\", model.intercept_)\n",
    "print(\"Coeficientes de las variables (TV, Radio, Newspaper):\", model.coef_)"
   ]
  },
  {
   "cell_type": "code",
   "execution_count": 7,
   "id": "6e9f2039",
   "metadata": {},
   "outputs": [
    {
     "name": "stdout",
     "output_type": "stream",
     "text": [
      "Predicción de ventas: 12.21822940752952\n"
     ]
    }
   ],
   "source": [
    "# Realizar una prediccion utilizando el modelo\n",
    "\n",
    "prediccion = pd.DataFrame({'TV': [100], 'Radio': [25], 'Newspaper': [10]})\n",
    "predicciones = model.predict(prediccion)\n",
    "print(\"Predicción de ventas:\", predicciones[0])"
   ]
  },
  {
   "cell_type": "code",
   "execution_count": 8,
   "id": "df506dd8",
   "metadata": {},
   "outputs": [
    {
     "name": "stdout",
     "output_type": "stream",
     "text": [
      "Suma de los cuadrados de los residuos (SSD): 556.8252629021872\n",
      "Error estándar residual (RSE): 1.685510373414744\n"
     ]
    }
   ],
   "source": [
    "from sklearn.metrics import mean_squared_error\n",
    "import numpy as np\n",
    "\n",
    "y_pred = model.predict(X)  # Predicciones del modelo\n",
    "SSD = np.sum((y - y_pred) ** 2)\n",
    "\n",
    "# Número de observaciones y número de predictores\n",
    "n = len(y)\n",
    "p = X.shape[1]\n",
    "\n",
    "# Calcular el RSE\n",
    "RSE = np.sqrt(SSD / (n - p - 1))\n",
    "\n",
    "print(\"Suma de los cuadrados de los residuos (SSD):\", SSD)\n",
    "print(\"Error estándar residual (RSE):\", RSE)\n"
   ]
  },
  {
   "cell_type": "code",
   "execution_count": null,
   "id": "de2763d5",
   "metadata": {},
   "outputs": [],
   "source": []
  }
 ],
 "metadata": {
  "kernelspec": {
   "display_name": "Python 3 (ipykernel)",
   "language": "python",
   "name": "python3"
  },
  "language_info": {
   "codemirror_mode": {
    "name": "ipython",
    "version": 3
   },
   "file_extension": ".py",
   "mimetype": "text/x-python",
   "name": "python",
   "nbconvert_exporter": "python",
   "pygments_lexer": "ipython3",
   "version": "3.11.4"
  }
 },
 "nbformat": 4,
 "nbformat_minor": 5
}
