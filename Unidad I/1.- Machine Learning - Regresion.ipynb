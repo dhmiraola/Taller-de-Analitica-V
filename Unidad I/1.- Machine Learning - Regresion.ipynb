{
 "cells": [
  {
   "cell_type": "code",
   "execution_count": 1,
   "id": "4dce3e98",
   "metadata": {},
   "outputs": [
    {
     "data": {
      "text/html": [
       "<div>\n",
       "<style scoped>\n",
       "    .dataframe tbody tr th:only-of-type {\n",
       "        vertical-align: middle;\n",
       "    }\n",
       "\n",
       "    .dataframe tbody tr th {\n",
       "        vertical-align: top;\n",
       "    }\n",
       "\n",
       "    .dataframe thead th {\n",
       "        text-align: right;\n",
       "    }\n",
       "</style>\n",
       "<table border=\"1\" class=\"dataframe\">\n",
       "  <thead>\n",
       "    <tr style=\"text-align: right;\">\n",
       "      <th></th>\n",
       "      <th>longitude</th>\n",
       "      <th>latitude</th>\n",
       "      <th>housing_median_age</th>\n",
       "      <th>total_rooms</th>\n",
       "      <th>total_bedrooms</th>\n",
       "      <th>population</th>\n",
       "      <th>households</th>\n",
       "      <th>median_income</th>\n",
       "      <th>median_house_value</th>\n",
       "      <th>ocean_proximity</th>\n",
       "    </tr>\n",
       "  </thead>\n",
       "  <tbody>\n",
       "    <tr>\n",
       "      <th>0</th>\n",
       "      <td>-122.23</td>\n",
       "      <td>37.88</td>\n",
       "      <td>41.0</td>\n",
       "      <td>880.0</td>\n",
       "      <td>129.0</td>\n",
       "      <td>322.0</td>\n",
       "      <td>126.0</td>\n",
       "      <td>8.3252</td>\n",
       "      <td>452600.0</td>\n",
       "      <td>NEAR BAY</td>\n",
       "    </tr>\n",
       "    <tr>\n",
       "      <th>1</th>\n",
       "      <td>-122.22</td>\n",
       "      <td>37.86</td>\n",
       "      <td>21.0</td>\n",
       "      <td>7099.0</td>\n",
       "      <td>1106.0</td>\n",
       "      <td>2401.0</td>\n",
       "      <td>1138.0</td>\n",
       "      <td>8.3014</td>\n",
       "      <td>358500.0</td>\n",
       "      <td>NEAR BAY</td>\n",
       "    </tr>\n",
       "    <tr>\n",
       "      <th>2</th>\n",
       "      <td>-122.24</td>\n",
       "      <td>37.85</td>\n",
       "      <td>52.0</td>\n",
       "      <td>1467.0</td>\n",
       "      <td>190.0</td>\n",
       "      <td>496.0</td>\n",
       "      <td>177.0</td>\n",
       "      <td>7.2574</td>\n",
       "      <td>352100.0</td>\n",
       "      <td>NEAR BAY</td>\n",
       "    </tr>\n",
       "    <tr>\n",
       "      <th>3</th>\n",
       "      <td>-122.25</td>\n",
       "      <td>37.85</td>\n",
       "      <td>52.0</td>\n",
       "      <td>1274.0</td>\n",
       "      <td>235.0</td>\n",
       "      <td>558.0</td>\n",
       "      <td>219.0</td>\n",
       "      <td>5.6431</td>\n",
       "      <td>341300.0</td>\n",
       "      <td>NEAR BAY</td>\n",
       "    </tr>\n",
       "    <tr>\n",
       "      <th>4</th>\n",
       "      <td>-122.25</td>\n",
       "      <td>37.85</td>\n",
       "      <td>52.0</td>\n",
       "      <td>1627.0</td>\n",
       "      <td>280.0</td>\n",
       "      <td>565.0</td>\n",
       "      <td>259.0</td>\n",
       "      <td>3.8462</td>\n",
       "      <td>342200.0</td>\n",
       "      <td>NEAR BAY</td>\n",
       "    </tr>\n",
       "  </tbody>\n",
       "</table>\n",
       "</div>"
      ],
      "text/plain": [
       "   longitude  latitude  housing_median_age  total_rooms  total_bedrooms  \\\n",
       "0    -122.23     37.88                41.0        880.0           129.0   \n",
       "1    -122.22     37.86                21.0       7099.0          1106.0   \n",
       "2    -122.24     37.85                52.0       1467.0           190.0   \n",
       "3    -122.25     37.85                52.0       1274.0           235.0   \n",
       "4    -122.25     37.85                52.0       1627.0           280.0   \n",
       "\n",
       "   population  households  median_income  median_house_value ocean_proximity  \n",
       "0       322.0       126.0         8.3252            452600.0        NEAR BAY  \n",
       "1      2401.0      1138.0         8.3014            358500.0        NEAR BAY  \n",
       "2       496.0       177.0         7.2574            352100.0        NEAR BAY  \n",
       "3       558.0       219.0         5.6431            341300.0        NEAR BAY  \n",
       "4       565.0       259.0         3.8462            342200.0        NEAR BAY  "
      ]
     },
     "execution_count": 1,
     "metadata": {},
     "output_type": "execute_result"
    }
   ],
   "source": [
    "import pandas as pd\n",
    "\n",
    "data = pd.read_csv(\"housing.csv\")\n",
    "\n",
    "data.head()"
   ]
  },
  {
   "cell_type": "code",
   "execution_count": 2,
   "id": "0510e2bf",
   "metadata": {},
   "outputs": [
    {
     "data": {
      "text/plain": [
       "(20640, 10)"
      ]
     },
     "execution_count": 2,
     "metadata": {},
     "output_type": "execute_result"
    }
   ],
   "source": [
    "data.shape"
   ]
  },
  {
   "cell_type": "code",
   "execution_count": 3,
   "id": "78bcf8d1",
   "metadata": {},
   "outputs": [
    {
     "data": {
      "text/html": [
       "<div>\n",
       "<style scoped>\n",
       "    .dataframe tbody tr th:only-of-type {\n",
       "        vertical-align: middle;\n",
       "    }\n",
       "\n",
       "    .dataframe tbody tr th {\n",
       "        vertical-align: top;\n",
       "    }\n",
       "\n",
       "    .dataframe thead th {\n",
       "        text-align: right;\n",
       "    }\n",
       "</style>\n",
       "<table border=\"1\" class=\"dataframe\">\n",
       "  <thead>\n",
       "    <tr style=\"text-align: right;\">\n",
       "      <th></th>\n",
       "      <th>longitude</th>\n",
       "      <th>latitude</th>\n",
       "      <th>housing_median_age</th>\n",
       "      <th>total_rooms</th>\n",
       "      <th>total_bedrooms</th>\n",
       "      <th>population</th>\n",
       "      <th>households</th>\n",
       "      <th>median_income</th>\n",
       "      <th>median_house_value</th>\n",
       "    </tr>\n",
       "  </thead>\n",
       "  <tbody>\n",
       "    <tr>\n",
       "      <th>count</th>\n",
       "      <td>20640.000000</td>\n",
       "      <td>20640.000000</td>\n",
       "      <td>20640.000000</td>\n",
       "      <td>20640.000000</td>\n",
       "      <td>20433.000000</td>\n",
       "      <td>20640.000000</td>\n",
       "      <td>20640.000000</td>\n",
       "      <td>20640.000000</td>\n",
       "      <td>20640.000000</td>\n",
       "    </tr>\n",
       "    <tr>\n",
       "      <th>mean</th>\n",
       "      <td>-119.569704</td>\n",
       "      <td>35.631861</td>\n",
       "      <td>28.639486</td>\n",
       "      <td>2635.763081</td>\n",
       "      <td>537.870553</td>\n",
       "      <td>1425.476744</td>\n",
       "      <td>499.539680</td>\n",
       "      <td>3.870671</td>\n",
       "      <td>206855.816909</td>\n",
       "    </tr>\n",
       "    <tr>\n",
       "      <th>std</th>\n",
       "      <td>2.003532</td>\n",
       "      <td>2.135952</td>\n",
       "      <td>12.585558</td>\n",
       "      <td>2181.615252</td>\n",
       "      <td>421.385070</td>\n",
       "      <td>1132.462122</td>\n",
       "      <td>382.329753</td>\n",
       "      <td>1.899822</td>\n",
       "      <td>115395.615874</td>\n",
       "    </tr>\n",
       "    <tr>\n",
       "      <th>min</th>\n",
       "      <td>-124.350000</td>\n",
       "      <td>32.540000</td>\n",
       "      <td>1.000000</td>\n",
       "      <td>2.000000</td>\n",
       "      <td>1.000000</td>\n",
       "      <td>3.000000</td>\n",
       "      <td>1.000000</td>\n",
       "      <td>0.499900</td>\n",
       "      <td>14999.000000</td>\n",
       "    </tr>\n",
       "    <tr>\n",
       "      <th>25%</th>\n",
       "      <td>-121.800000</td>\n",
       "      <td>33.930000</td>\n",
       "      <td>18.000000</td>\n",
       "      <td>1447.750000</td>\n",
       "      <td>296.000000</td>\n",
       "      <td>787.000000</td>\n",
       "      <td>280.000000</td>\n",
       "      <td>2.563400</td>\n",
       "      <td>119600.000000</td>\n",
       "    </tr>\n",
       "    <tr>\n",
       "      <th>50%</th>\n",
       "      <td>-118.490000</td>\n",
       "      <td>34.260000</td>\n",
       "      <td>29.000000</td>\n",
       "      <td>2127.000000</td>\n",
       "      <td>435.000000</td>\n",
       "      <td>1166.000000</td>\n",
       "      <td>409.000000</td>\n",
       "      <td>3.534800</td>\n",
       "      <td>179700.000000</td>\n",
       "    </tr>\n",
       "    <tr>\n",
       "      <th>75%</th>\n",
       "      <td>-118.010000</td>\n",
       "      <td>37.710000</td>\n",
       "      <td>37.000000</td>\n",
       "      <td>3148.000000</td>\n",
       "      <td>647.000000</td>\n",
       "      <td>1725.000000</td>\n",
       "      <td>605.000000</td>\n",
       "      <td>4.743250</td>\n",
       "      <td>264725.000000</td>\n",
       "    </tr>\n",
       "    <tr>\n",
       "      <th>max</th>\n",
       "      <td>-114.310000</td>\n",
       "      <td>41.950000</td>\n",
       "      <td>52.000000</td>\n",
       "      <td>39320.000000</td>\n",
       "      <td>6445.000000</td>\n",
       "      <td>35682.000000</td>\n",
       "      <td>6082.000000</td>\n",
       "      <td>15.000100</td>\n",
       "      <td>500001.000000</td>\n",
       "    </tr>\n",
       "  </tbody>\n",
       "</table>\n",
       "</div>"
      ],
      "text/plain": [
       "          longitude      latitude  housing_median_age   total_rooms  \\\n",
       "count  20640.000000  20640.000000        20640.000000  20640.000000   \n",
       "mean    -119.569704     35.631861           28.639486   2635.763081   \n",
       "std        2.003532      2.135952           12.585558   2181.615252   \n",
       "min     -124.350000     32.540000            1.000000      2.000000   \n",
       "25%     -121.800000     33.930000           18.000000   1447.750000   \n",
       "50%     -118.490000     34.260000           29.000000   2127.000000   \n",
       "75%     -118.010000     37.710000           37.000000   3148.000000   \n",
       "max     -114.310000     41.950000           52.000000  39320.000000   \n",
       "\n",
       "       total_bedrooms    population    households  median_income  \\\n",
       "count    20433.000000  20640.000000  20640.000000   20640.000000   \n",
       "mean       537.870553   1425.476744    499.539680       3.870671   \n",
       "std        421.385070   1132.462122    382.329753       1.899822   \n",
       "min          1.000000      3.000000      1.000000       0.499900   \n",
       "25%        296.000000    787.000000    280.000000       2.563400   \n",
       "50%        435.000000   1166.000000    409.000000       3.534800   \n",
       "75%        647.000000   1725.000000    605.000000       4.743250   \n",
       "max       6445.000000  35682.000000   6082.000000      15.000100   \n",
       "\n",
       "       median_house_value  \n",
       "count        20640.000000  \n",
       "mean        206855.816909  \n",
       "std         115395.615874  \n",
       "min          14999.000000  \n",
       "25%         119600.000000  \n",
       "50%         179700.000000  \n",
       "75%         264725.000000  \n",
       "max         500001.000000  "
      ]
     },
     "execution_count": 3,
     "metadata": {},
     "output_type": "execute_result"
    }
   ],
   "source": [
    "data.describe()"
   ]
  },
  {
   "cell_type": "code",
   "execution_count": 4,
   "id": "20342fc6",
   "metadata": {},
   "outputs": [],
   "source": [
    "# Codificar 'ocean_proximity' usando map\n",
    "data['ocean_proximity'] = data['ocean_proximity'].map({\n",
    "    'NEAR BAY': 0,\n",
    "    '<1H OCEAN': 1,\n",
    "    'INLAND': 2,\n",
    "    'NEAR OCEAN': 3,\n",
    "    'ISLAND': 4\n",
    "})\n"
   ]
  },
  {
   "cell_type": "code",
   "execution_count": 5,
   "id": "06ceb765",
   "metadata": {},
   "outputs": [
    {
     "data": {
      "text/plain": [
       "longitude               0\n",
       "latitude                0\n",
       "housing_median_age      0\n",
       "total_rooms             0\n",
       "total_bedrooms        207\n",
       "population              0\n",
       "households              0\n",
       "median_income           0\n",
       "median_house_value      0\n",
       "ocean_proximity         0\n",
       "dtype: int64"
      ]
     },
     "execution_count": 5,
     "metadata": {},
     "output_type": "execute_result"
    }
   ],
   "source": [
    "data.isnull().sum()"
   ]
  },
  {
   "cell_type": "code",
   "execution_count": 6,
   "id": "ed3bef67",
   "metadata": {},
   "outputs": [],
   "source": [
    "data['total_bedrooms'].fillna(data['total_bedrooms'].mean(), inplace=True)"
   ]
  },
  {
   "cell_type": "code",
   "execution_count": 7,
   "id": "fa07f91a",
   "metadata": {},
   "outputs": [
    {
     "data": {
      "text/plain": [
       "longitude             0\n",
       "latitude              0\n",
       "housing_median_age    0\n",
       "total_rooms           0\n",
       "total_bedrooms        0\n",
       "population            0\n",
       "households            0\n",
       "median_income         0\n",
       "median_house_value    0\n",
       "ocean_proximity       0\n",
       "dtype: int64"
      ]
     },
     "execution_count": 7,
     "metadata": {},
     "output_type": "execute_result"
    }
   ],
   "source": [
    "data.isnull().sum()"
   ]
  },
  {
   "cell_type": "code",
   "execution_count": 8,
   "id": "262a2e68",
   "metadata": {},
   "outputs": [],
   "source": [
    "# Para clasificar primero debemos separar en 2 variables independiente y dependiente\n",
    "# X = variables independientes \n",
    "# y = variable dependiente, que es la que quiero predecir o clasificar\n",
    "\n",
    "\n",
    "# creacion de variables independientes\n",
    "X = data.drop('median_house_value', axis=1) \n",
    "# creacion de la variable dependiente\n",
    "y = data['median_house_value']\n"
   ]
  },
  {
   "cell_type": "code",
   "execution_count": 9,
   "id": "95bfd162",
   "metadata": {},
   "outputs": [],
   "source": [
    "# seperar los datos en conjunto de entrenamiento y prueba \n",
    "\n",
    "from sklearn.model_selection import train_test_split\n",
    "\n",
    "X_train, X_test, y_train, y_test = train_test_split(X, y, test_size=0.2, random_state=42)"
   ]
  },
  {
   "cell_type": "markdown",
   "id": "ff0dd97a",
   "metadata": {},
   "source": [
    "# Arbol de Decision"
   ]
  },
  {
   "cell_type": "code",
   "execution_count": 10,
   "id": "88d09f38",
   "metadata": {},
   "outputs": [
    {
     "name": "stdout",
     "output_type": "stream",
     "text": [
      "Árbol de Decisión\n",
      "MAE : 44582.7946\n",
      "MSE : 4820833294.1318\n",
      "RMSE: 69432.2209\n",
      "MAPE: 24.19 %\n",
      "R²  : 0.6321\n"
     ]
    }
   ],
   "source": [
    "from sklearn.tree import DecisionTreeRegressor\n",
    "from sklearn.model_selection import train_test_split\n",
    "from sklearn.metrics import mean_absolute_error, mean_squared_error, r2_score\n",
    "import numpy as np\n",
    "\n",
    "# División del dataset\n",
    "X_train, X_test, y_train, y_test = train_test_split(X, y, test_size=0.2, random_state=42)\n",
    "\n",
    "# Entrenamiento del modelo\n",
    "modelo_arbol = DecisionTreeRegressor(random_state=42)\n",
    "modelo_arbol.fit(X_train, y_train)\n",
    "\n",
    "# Predicciones\n",
    "y_pred = modelo_arbol.predict(X_test)\n",
    "\n",
    "# Cálculo de métricas\n",
    "mae = mean_absolute_error(y_test, y_pred) # Error Absoluto Medio\n",
    "mse = mean_squared_error(y_test, y_pred) # Error Cuadratico Medio\n",
    "rmse = np.sqrt(mse) # Raiz del Error Cuadratico Medio\n",
    "r2 = r2_score(y_test, y_pred) # Coeficiente de Determinacion\n",
    "\n",
    "# MAPE \n",
    "mape = np.mean(np.abs((y_test - y_pred) / np.where(y_test == 0, 1e-10, y_test))) * 100\n",
    "\n",
    "# Resultados\n",
    "print(\"Árbol de Decisión\")\n",
    "print(\"MAE :\", round(mae, 4))\n",
    "print(\"MSE :\", round(mse, 4))\n",
    "print(\"RMSE:\", round(rmse, 4))\n",
    "print(\"MAPE:\", round(mape, 2), \"%\")\n",
    "print(\"R²  :\", round(r2, 4))\n"
   ]
  },
  {
   "cell_type": "markdown",
   "id": "f25b1940",
   "metadata": {},
   "source": [
    "# Random Forest"
   ]
  },
  {
   "cell_type": "code",
   "execution_count": 11,
   "id": "361266cd",
   "metadata": {},
   "outputs": [
    {
     "name": "stdout",
     "output_type": "stream",
     "text": [
      "Random Forest\n",
      "MAE : 32428.6737\n",
      "MSE : 2557794454.6855\n",
      "RMSE: 50574.6424\n",
      "MAPE: 18.07 %\n",
      "R²  : 0.8048\n"
     ]
    }
   ],
   "source": [
    "from sklearn.ensemble import RandomForestRegressor\n",
    "from sklearn.metrics import mean_absolute_error, mean_squared_error, r2_score\n",
    "import numpy as np\n",
    "\n",
    "# Entrenamiento del modelo\n",
    "modelo_rf = RandomForestRegressor(n_estimators=100, random_state=42)\n",
    "modelo_rf.fit(X_train, y_train)\n",
    "\n",
    "# Predicciones\n",
    "y_pred = modelo_rf.predict(X_test)\n",
    "\n",
    "# Cálculo de métricas\n",
    "mae = mean_absolute_error(y_test, y_pred)\n",
    "mse = mean_squared_error(y_test, y_pred)\n",
    "rmse = np.sqrt(mse)\n",
    "r2 = r2_score(y_test, y_pred)\n",
    "mape = np.mean(np.abs((y_test - y_pred) / np.where(y_test == 0, 1e-10, y_test))) * 100\n",
    "\n",
    "# Resultados\n",
    "print(\"Random Forest\")\n",
    "print(\"MAE :\", round(mae, 4))\n",
    "print(\"MSE :\", round(mse, 4))\n",
    "print(\"RMSE:\", round(rmse, 4))\n",
    "print(\"MAPE:\", round(mape, 2), \"%\")\n",
    "print(\"R²  :\", round(r2, 4))"
   ]
  },
  {
   "cell_type": "markdown",
   "id": "7754da77",
   "metadata": {},
   "source": [
    "# Escalado de datos"
   ]
  },
  {
   "cell_type": "code",
   "execution_count": 12,
   "id": "6da99b21",
   "metadata": {},
   "outputs": [],
   "source": [
    "from sklearn.preprocessing import StandardScaler, LabelEncoder\n",
    "from sklearn.model_selection import train_test_split\n",
    "from sklearn.metrics import classification_report, ConfusionMatrixDisplay\n",
    "import matplotlib.pyplot as plt\n"
   ]
  },
  {
   "cell_type": "code",
   "execution_count": 13,
   "id": "a74cb4e7",
   "metadata": {},
   "outputs": [],
   "source": [
    "from sklearn.preprocessing import StandardScaler\n",
    "\n",
    "scaler = StandardScaler()\n",
    "X_scaled = scaler.fit_transform(X)\n",
    "\n",
    "X_train_s, X_test_s, y_train_s, y_test_s = train_test_split(X_scaled, y, test_size=0.2, random_state=42)\n",
    "\n"
   ]
  },
  {
   "cell_type": "markdown",
   "id": "964f6c18",
   "metadata": {},
   "source": [
    "# XGBoost"
   ]
  },
  {
   "cell_type": "code",
   "execution_count": 14,
   "id": "bf76dc42",
   "metadata": {},
   "outputs": [
    {
     "name": "stdout",
     "output_type": "stream",
     "text": [
      "XGBoost\n",
      "MAE : 32076.3255\n",
      "MSE : 2337325508.8438\n",
      "RMSE: 48345.8944\n",
      "MAPE: 18.22 %\n",
      "R²  : 0.8216\n"
     ]
    }
   ],
   "source": [
    "from xgboost import XGBRegressor\n",
    "from sklearn.metrics import mean_absolute_error, mean_squared_error, r2_score\n",
    "import numpy as np\n",
    "\n",
    "# Entrenamiento del modelo con datos escalados\n",
    "modelo_xgb = XGBRegressor(random_state=42)\n",
    "modelo_xgb.fit(X_train_s, y_train_s)\n",
    "\n",
    "# Predicciones\n",
    "y_pred = modelo_xgb.predict(X_test_s)\n",
    "\n",
    "# Cálculo de métricas\n",
    "mae = mean_absolute_error(y_test_s, y_pred)\n",
    "mse = mean_squared_error(y_test_s, y_pred)\n",
    "rmse = np.sqrt(mse)\n",
    "r2 = r2_score(y_test_s, y_pred)\n",
    "mape = np.mean(np.abs((y_test_s - y_pred) / np.where(y_test_s == 0, 1e-10, y_test_s))) * 100\n",
    "\n",
    "# Resultados\n",
    "print(\"XGBoost\")\n",
    "print(\"MAE :\", round(mae, 4))\n",
    "print(\"MSE :\", round(mse, 4))\n",
    "print(\"RMSE:\", round(rmse, 4))\n",
    "print(\"MAPE:\", round(mape, 2), \"%\")\n",
    "print(\"R²  :\", round(r2, 4))\n"
   ]
  },
  {
   "cell_type": "markdown",
   "id": "380bfc1b",
   "metadata": {},
   "source": [
    "# KNN"
   ]
  },
  {
   "cell_type": "code",
   "execution_count": 15,
   "id": "552e59ea",
   "metadata": {},
   "outputs": [
    {
     "name": "stdout",
     "output_type": "stream",
     "text": [
      "KNN Regressor\n",
      "MAE  : 41025.4201\n",
      "MSE  : 3822879504.771\n",
      "RMSE : 61829.4388\n",
      "MAPE : 22.21 %\n",
      "R²   : 0.7083\n"
     ]
    }
   ],
   "source": [
    "from sklearn.neighbors import KNeighborsRegressor\n",
    "from sklearn.metrics import mean_absolute_error, mean_squared_error, r2_score\n",
    "import numpy as np\n",
    "\n",
    "# Entrenamiento del modelo con datos escalados\n",
    "modelo_knn = KNeighborsRegressor(n_neighbors=5)\n",
    "modelo_knn.fit(X_train_s, y_train_s)\n",
    "\n",
    "# Predicciones\n",
    "y_pred = modelo_knn.predict(X_test_s)\n",
    "\n",
    "# Cálculo de métricas\n",
    "mae = mean_absolute_error(y_test_s, y_pred)\n",
    "mse = mean_squared_error(y_test_s, y_pred)\n",
    "rmse = np.sqrt(mse)\n",
    "r2 = r2_score(y_test_s, y_pred)\n",
    "mape = np.mean(np.abs((y_test_s - y_pred) / np.where(y_test_s == 0, 1e-10, y_test_s))) * 100\n",
    "\n",
    "# Resultados\n",
    "print(\"KNN Regressor\")\n",
    "print(\"MAE  :\", round(mae, 4))\n",
    "print(\"MSE  :\", round(mse, 4))\n",
    "print(\"RMSE :\", round(rmse, 4))\n",
    "print(\"MAPE :\", round(mape, 2), \"%\")\n",
    "print(\"R²   :\", round(r2, 4))\n"
   ]
  },
  {
   "cell_type": "markdown",
   "id": "4b02e237",
   "metadata": {},
   "source": [
    "# Maquina de Soporte Vectorial"
   ]
  },
  {
   "cell_type": "code",
   "execution_count": 16,
   "id": "c823e239",
   "metadata": {},
   "outputs": [
    {
     "name": "stdout",
     "output_type": "stream",
     "text": [
      "SVM Regressor\n",
      "MAE  : 87081.0609\n",
      "MSE  : 13681275294.7933\n",
      "RMSE : 116966.9838\n",
      "MAPE : 52.84 %\n",
      "R²   : -0.044\n"
     ]
    }
   ],
   "source": [
    "from sklearn.svm import SVR\n",
    "from sklearn.metrics import mean_absolute_error, mean_squared_error, r2_score\n",
    "import numpy as np\n",
    "\n",
    "# Entrenamiento del modelo con datos escalados\n",
    "modelo_svr = SVR(kernel='rbf')\n",
    "modelo_svr.fit(X_train_s, y_train_s)\n",
    "\n",
    "# Predicciones\n",
    "y_pred = modelo_svr.predict(X_test_s)\n",
    "\n",
    "# Cálculo de métricas\n",
    "mae = mean_absolute_error(y_test_s, y_pred)\n",
    "mse = mean_squared_error(y_test_s, y_pred)\n",
    "rmse = np.sqrt(mse)\n",
    "r2 = r2_score(y_test_s, y_pred)\n",
    "mape = np.mean(np.abs((y_test_s - y_pred) / np.where(y_test_s == 0, 1e-10, y_test_s))) * 100\n",
    "\n",
    "# Resultados\n",
    "print(\"SVM Regressor\")\n",
    "print(\"MAE  :\", round(mae, 4))\n",
    "print(\"MSE  :\", round(mse, 4))\n",
    "print(\"RMSE :\", round(rmse, 4))\n",
    "print(\"MAPE :\", round(mape, 2), \"%\")\n",
    "print(\"R²   :\", round(r2, 4))\n",
    "\n"
   ]
  },
  {
   "cell_type": "markdown",
   "id": "5afb4345",
   "metadata": {},
   "source": [
    "# Perceptron Multicapa"
   ]
  },
  {
   "cell_type": "code",
   "execution_count": 17,
   "id": "06a6732f",
   "metadata": {},
   "outputs": [
    {
     "name": "stdout",
     "output_type": "stream",
     "text": [
      "MLP Regressor\n",
      "MAE  : 82985.5974\n",
      "MSE  : 13097090227.9719\n",
      "RMSE : 114442.5193\n",
      "MAPE : 41.86 %\n",
      "R²   : 0.0005\n"
     ]
    },
    {
     "name": "stderr",
     "output_type": "stream",
     "text": [
      "C:\\Users\\Diego\\anaconda3\\Lib\\site-packages\\sklearn\\neural_network\\_multilayer_perceptron.py:691: ConvergenceWarning: Stochastic Optimizer: Maximum iterations (500) reached and the optimization hasn't converged yet.\n",
      "  warnings.warn(\n"
     ]
    }
   ],
   "source": [
    "from sklearn.neural_network import MLPRegressor\n",
    "from sklearn.metrics import mean_absolute_error, mean_squared_error, r2_score\n",
    "import numpy as np\n",
    "\n",
    "# Entrenamiento del modelo con datos escalados\n",
    "modelo_mlp = MLPRegressor(hidden_layer_sizes=(50,), max_iter=500, random_state=42)\n",
    "modelo_mlp.fit(X_train_s, y_train_s)\n",
    "\n",
    "# Predicciones\n",
    "y_pred = modelo_mlp.predict(X_test_s)\n",
    "\n",
    "# Cálculo de métricas\n",
    "mae = mean_absolute_error(y_test_s, y_pred)\n",
    "mse = mean_squared_error(y_test_s, y_pred)\n",
    "rmse = np.sqrt(mse)\n",
    "r2 = r2_score(y_test_s, y_pred)\n",
    "mape = np.mean(np.abs((y_test_s - y_pred) / np.where(y_test_s == 0, 1e-10, y_test_s))) * 100\n",
    "\n",
    "# Resultados\n",
    "print(\"MLP Regressor\")\n",
    "print(\"MAE  :\", round(mae, 4))\n",
    "print(\"MSE  :\", round(mse, 4))\n",
    "print(\"RMSE :\", round(rmse, 4))\n",
    "print(\"MAPE :\", round(mape, 2), \"%\")\n",
    "print(\"R²   :\", round(r2, 4))\n"
   ]
  }
 ],
 "metadata": {
  "kernelspec": {
   "display_name": "Python 3 (ipykernel)",
   "language": "python",
   "name": "python3"
  },
  "language_info": {
   "codemirror_mode": {
    "name": "ipython",
    "version": 3
   },
   "file_extension": ".py",
   "mimetype": "text/x-python",
   "name": "python",
   "nbconvert_exporter": "python",
   "pygments_lexer": "ipython3",
   "version": "3.11.5"
  }
 },
 "nbformat": 4,
 "nbformat_minor": 5
}
